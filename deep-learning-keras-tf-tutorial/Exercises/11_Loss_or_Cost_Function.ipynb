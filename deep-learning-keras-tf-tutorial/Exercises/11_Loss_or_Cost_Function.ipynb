{
 "cells": [
  {
   "cell_type": "code",
   "execution_count": 1,
   "id": "724af6ae",
   "metadata": {},
   "outputs": [],
   "source": [
    "import numpy as np"
   ]
  },
  {
   "cell_type": "code",
   "execution_count": 2,
   "id": "2fef20bc",
   "metadata": {},
   "outputs": [],
   "source": [
    "y_predicted = np.array([1,1,0,0,1])\n",
    "y_true = np.array([0.30,0.7,1,0,0.5])"
   ]
  },
  {
   "cell_type": "markdown",
   "id": "6e061b07",
   "metadata": {},
   "source": [
    "# Implement mean squared error "
   ]
  },
  {
   "cell_type": "markdown",
   "id": "b1ab3df0",
   "metadata": {},
   "source": [
    "### Using plain python"
   ]
  },
  {
   "cell_type": "code",
   "execution_count": 3,
   "id": "31d00dee",
   "metadata": {},
   "outputs": [],
   "source": [
    "def mae(y_predicted, y_true):\n",
    "    total_error = 0\n",
    "    for yp, yt in zip(y_predicted, y_true):\n",
    "        total_error += (yp - yt)**2\n",
    "    print(\"Total error is:\",total_error)\n",
    "    mae = total_error/len(y_predicted)\n",
    "    print(\"Mean squared error is:\",mae)\n",
    "    return mae"
   ]
  },
  {
   "cell_type": "code",
   "execution_count": 4,
   "id": "75b502f9",
   "metadata": {},
   "outputs": [
    {
     "name": "stdout",
     "output_type": "stream",
     "text": [
      "Total error is: 1.83\n",
      "Mean squared error is: 0.366\n"
     ]
    },
    {
     "data": {
      "text/plain": [
       "0.366"
      ]
     },
     "execution_count": 4,
     "metadata": {},
     "output_type": "execute_result"
    }
   ],
   "source": [
    "mae(y_predicted,y_true)"
   ]
  },
  {
   "cell_type": "markdown",
   "id": "18eb8b43",
   "metadata": {},
   "source": [
    "### Using numpy "
   ]
  },
  {
   "cell_type": "code",
   "execution_count": 7,
   "id": "6b6f9456",
   "metadata": {},
   "outputs": [],
   "source": [
    "def mae_np(y_predicted, y_true):\n",
    "    return np.mean(np.square(y_predicted - y_true))"
   ]
  },
  {
   "cell_type": "code",
   "execution_count": 8,
   "id": "24e09346",
   "metadata": {},
   "outputs": [
    {
     "data": {
      "text/plain": [
       "0.366"
      ]
     },
     "execution_count": 8,
     "metadata": {},
     "output_type": "execute_result"
    }
   ],
   "source": [
    "mae_np(y_predicted, y_true)"
   ]
  },
  {
   "cell_type": "code",
   "execution_count": null,
   "id": "478175bd",
   "metadata": {},
   "outputs": [],
   "source": []
  }
 ],
 "metadata": {
  "celltoolbar": "Raw Cell Format",
  "kernelspec": {
   "display_name": "Python 3 (ipykernel)",
   "language": "python",
   "name": "python3"
  },
  "language_info": {
   "codemirror_mode": {
    "name": "ipython",
    "version": 3
   },
   "file_extension": ".py",
   "mimetype": "text/x-python",
   "name": "python",
   "nbconvert_exporter": "python",
   "pygments_lexer": "ipython3",
   "version": "3.9.7"
  }
 },
 "nbformat": 4,
 "nbformat_minor": 5
}
