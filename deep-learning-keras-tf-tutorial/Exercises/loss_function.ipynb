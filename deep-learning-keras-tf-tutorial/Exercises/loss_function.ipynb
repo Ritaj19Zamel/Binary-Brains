{
 "cells": [
  {
   "cell_type": "code",
   "execution_count": 1,
   "id": "49d239a7",
   "metadata": {},
   "outputs": [],
   "source": [
    "import numpy as np\n",
    "y_predect=np.array([1,1,0,0,1])\n",
    "y_true=np.array([0.30,0.7,1,0,0.5])"
   ]
  },
  {
   "cell_type": "code",
   "execution_count": 5,
   "id": "cf1ae664",
   "metadata": {},
   "outputs": [],
   "source": [
    "def mae(y_true,y_predect):\n",
    "    total_errer=0\n",
    "    for yt,yp in zip(y_true,y_predect):\n",
    "        total_errer+=abs(yt-yp)**2\n",
    "    print ('total errer:-',total_errer)\n",
    "    mae= total_errer/len(y_true)\n",
    "    print ('mae:-',mae)"
   ]
  },
  {
   "cell_type": "code",
   "execution_count": 6,
   "id": "3d2335f2",
   "metadata": {
    "scrolled": true
   },
   "outputs": [
    {
     "name": "stdout",
     "output_type": "stream",
     "text": [
      "total errer:- 1.83\n",
      "mae:- 0.366\n"
     ]
    }
   ],
   "source": [
    "mae(y_true,y_predect)"
   ]
  },
  {
   "cell_type": "code",
   "execution_count": 8,
   "id": "4010a211",
   "metadata": {},
   "outputs": [
    {
     "data": {
      "text/plain": [
       "0.366"
      ]
     },
     "execution_count": 8,
     "metadata": {},
     "output_type": "execute_result"
    }
   ],
   "source": [
    "np.mean(np.square(y_predect-y_true))"
   ]
  },
  {
   "cell_type": "code",
   "execution_count": null,
   "id": "858684de",
   "metadata": {},
   "outputs": [],
   "source": []
  },
  {
   "cell_type": "code",
   "execution_count": null,
   "id": "36f9917f",
   "metadata": {},
   "outputs": [],
   "source": []
  },
  {
   "cell_type": "code",
   "execution_count": null,
   "id": "99b4f081",
   "metadata": {},
   "outputs": [],
   "source": []
  }
 ],
 "metadata": {
  "kernelspec": {
   "display_name": "Python 3 (ipykernel)",
   "language": "python",
   "name": "python3"
  },
  "language_info": {
   "codemirror_mode": {
    "name": "ipython",
    "version": 3
   },
   "file_extension": ".py",
   "mimetype": "text/x-python",
   "name": "python",
   "nbconvert_exporter": "python",
   "pygments_lexer": "ipython3",
   "version": "3.9.12"
  }
 },
 "nbformat": 4,
 "nbformat_minor": 5
}
